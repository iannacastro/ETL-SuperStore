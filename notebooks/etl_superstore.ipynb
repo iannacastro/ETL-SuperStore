{
 "cells": [
  {
   "cell_type": "markdown",
   "id": "646a697c",
   "metadata": {},
   "source": [
    "# Projeto ETL SuperStore\n",
    "\n",
    "Este notebook contém o processo de ETL (Extração, Transformação e Carga) para o conjunto de dados SuperStore. Utilizaremos diversas bibliotecas para manipulação de dados e, posteriormente, carregaremos os dados no BigQuery."
   ]
  },
  {
   "cell_type": "markdown",
   "id": "1e244ecc",
   "metadata": {},
   "source": [
    "## 1. Configuração do Ambiente e Importação de Bibliotecas\n",
    "\n",
    "Importação de todas as bibliotecas necessárias"
   ]
  },
  {
   "cell_type": "code",
   "execution_count": 31,
   "id": "2ad12b74",
   "metadata": {},
   "outputs": [
    {
     "name": "stdout",
     "output_type": "stream",
     "text": [
      "✅ Bibliotecas importadas com sucesso!\n"
     ]
    }
   ],
   "source": [
    "# Importação das bibliotecas necessárias\n",
    "import pandas as pd\n",
    "import numpy as np\n",
    "from pathlib import Path\n",
    "\n",
    "print(\"✅ Bibliotecas importadas com sucesso!\")"
   ]
  },
  {
   "cell_type": "markdown",
   "id": "74cedbc9",
   "metadata": {},
   "source": [
    "## 2. Carregamento dos Dados e Inicialização do DataFrame\n",
    "\n",
    "Agora vamos carregar o conjunto de dados SuperStore do arquivo CSV e realizar uma inspeção inicial dos dados."
   ]
  },
  {
   "cell_type": "code",
   "execution_count": 32,
   "id": "c602544d",
   "metadata": {},
   "outputs": [
    {
     "name": "stdout",
     "output_type": "stream",
     "text": [
      "\n",
      "📊 Formato da base: (51290, 27)\n",
      "📊 Colunas: ['category', 'city', 'country', 'customer_ID', 'customer_name', 'discount', 'market', 'unknown', 'order_date', 'order_id', 'order_priority', 'product_id', 'product_name', 'profit', 'quantity', 'region', 'row_id', 'sales', 'segment', 'ship_date', 'ship_mode', 'shipping_cost', 'state', 'sub_category', 'year', 'market2', 'weeknum']\n"
     ]
    },
    {
     "data": {
      "text/html": [
       "<div>\n",
       "<style scoped>\n",
       "    .dataframe tbody tr th:only-of-type {\n",
       "        vertical-align: middle;\n",
       "    }\n",
       "\n",
       "    .dataframe tbody tr th {\n",
       "        vertical-align: top;\n",
       "    }\n",
       "\n",
       "    .dataframe thead th {\n",
       "        text-align: right;\n",
       "    }\n",
       "</style>\n",
       "<table border=\"1\" class=\"dataframe\">\n",
       "  <thead>\n",
       "    <tr style=\"text-align: right;\">\n",
       "      <th></th>\n",
       "      <th>category</th>\n",
       "      <th>city</th>\n",
       "      <th>country</th>\n",
       "      <th>customer_ID</th>\n",
       "      <th>customer_name</th>\n",
       "      <th>discount</th>\n",
       "      <th>market</th>\n",
       "      <th>unknown</th>\n",
       "      <th>order_date</th>\n",
       "      <th>order_id</th>\n",
       "      <th>...</th>\n",
       "      <th>sales</th>\n",
       "      <th>segment</th>\n",
       "      <th>ship_date</th>\n",
       "      <th>ship_mode</th>\n",
       "      <th>shipping_cost</th>\n",
       "      <th>state</th>\n",
       "      <th>sub_category</th>\n",
       "      <th>year</th>\n",
       "      <th>market2</th>\n",
       "      <th>weeknum</th>\n",
       "    </tr>\n",
       "  </thead>\n",
       "  <tbody>\n",
       "    <tr>\n",
       "      <th>0</th>\n",
       "      <td>Office Supplies</td>\n",
       "      <td>Los Angeles</td>\n",
       "      <td>United States</td>\n",
       "      <td>LS-172304</td>\n",
       "      <td>Lycoris Saunders</td>\n",
       "      <td>0.0</td>\n",
       "      <td>US</td>\n",
       "      <td>1</td>\n",
       "      <td>2011-01-07 0:00:00</td>\n",
       "      <td>CA-2011-130813</td>\n",
       "      <td>...</td>\n",
       "      <td>19</td>\n",
       "      <td>Consumer</td>\n",
       "      <td>2011-01-09 0:00:00</td>\n",
       "      <td>Second Class</td>\n",
       "      <td>4.37</td>\n",
       "      <td>California</td>\n",
       "      <td>Paper</td>\n",
       "      <td>2011</td>\n",
       "      <td>North America</td>\n",
       "      <td>2</td>\n",
       "    </tr>\n",
       "    <tr>\n",
       "      <th>1</th>\n",
       "      <td>Office Supplies</td>\n",
       "      <td>Los Angeles</td>\n",
       "      <td>United States</td>\n",
       "      <td>MV-174854</td>\n",
       "      <td>Mark Van Huff</td>\n",
       "      <td>0.0</td>\n",
       "      <td>US</td>\n",
       "      <td>1</td>\n",
       "      <td>2011-01-21 0:00:00</td>\n",
       "      <td>CA-2011-148614</td>\n",
       "      <td>...</td>\n",
       "      <td>19</td>\n",
       "      <td>Consumer</td>\n",
       "      <td>2011-01-26 0:00:00</td>\n",
       "      <td>Standard Class</td>\n",
       "      <td>0.94</td>\n",
       "      <td>California</td>\n",
       "      <td>Paper</td>\n",
       "      <td>2011</td>\n",
       "      <td>North America</td>\n",
       "      <td>4</td>\n",
       "    </tr>\n",
       "    <tr>\n",
       "      <th>2</th>\n",
       "      <td>Office Supplies</td>\n",
       "      <td>Los Angeles</td>\n",
       "      <td>United States</td>\n",
       "      <td>CS-121304</td>\n",
       "      <td>Chad Sievert</td>\n",
       "      <td>0.0</td>\n",
       "      <td>US</td>\n",
       "      <td>1</td>\n",
       "      <td>2011-08-05 0:00:00</td>\n",
       "      <td>CA-2011-118962</td>\n",
       "      <td>...</td>\n",
       "      <td>21</td>\n",
       "      <td>Consumer</td>\n",
       "      <td>2011-08-09 0:00:00</td>\n",
       "      <td>Standard Class</td>\n",
       "      <td>1.81</td>\n",
       "      <td>California</td>\n",
       "      <td>Paper</td>\n",
       "      <td>2011</td>\n",
       "      <td>North America</td>\n",
       "      <td>32</td>\n",
       "    </tr>\n",
       "    <tr>\n",
       "      <th>3</th>\n",
       "      <td>Office Supplies</td>\n",
       "      <td>Los Angeles</td>\n",
       "      <td>United States</td>\n",
       "      <td>CS-121304</td>\n",
       "      <td>Chad Sievert</td>\n",
       "      <td>0.0</td>\n",
       "      <td>US</td>\n",
       "      <td>1</td>\n",
       "      <td>2011-08-05 0:00:00</td>\n",
       "      <td>CA-2011-118962</td>\n",
       "      <td>...</td>\n",
       "      <td>111</td>\n",
       "      <td>Consumer</td>\n",
       "      <td>2011-08-09 0:00:00</td>\n",
       "      <td>Standard Class</td>\n",
       "      <td>4.59</td>\n",
       "      <td>California</td>\n",
       "      <td>Paper</td>\n",
       "      <td>2011</td>\n",
       "      <td>North America</td>\n",
       "      <td>32</td>\n",
       "    </tr>\n",
       "    <tr>\n",
       "      <th>4</th>\n",
       "      <td>Office Supplies</td>\n",
       "      <td>Los Angeles</td>\n",
       "      <td>United States</td>\n",
       "      <td>AP-109154</td>\n",
       "      <td>Arthur Prichep</td>\n",
       "      <td>0.0</td>\n",
       "      <td>US</td>\n",
       "      <td>1</td>\n",
       "      <td>2011-09-29 0:00:00</td>\n",
       "      <td>CA-2011-146969</td>\n",
       "      <td>...</td>\n",
       "      <td>6</td>\n",
       "      <td>Consumer</td>\n",
       "      <td>2011-10-03 0:00:00</td>\n",
       "      <td>Standard Class</td>\n",
       "      <td>1.32</td>\n",
       "      <td>California</td>\n",
       "      <td>Paper</td>\n",
       "      <td>2011</td>\n",
       "      <td>North America</td>\n",
       "      <td>40</td>\n",
       "    </tr>\n",
       "  </tbody>\n",
       "</table>\n",
       "<p>5 rows × 27 columns</p>\n",
       "</div>"
      ],
      "text/plain": [
       "          category         city        country customer_ID     customer_name  \\\n",
       "0  Office Supplies  Los Angeles  United States   LS-172304  Lycoris Saunders   \n",
       "1  Office Supplies  Los Angeles  United States   MV-174854     Mark Van Huff   \n",
       "2  Office Supplies  Los Angeles  United States   CS-121304      Chad Sievert   \n",
       "3  Office Supplies  Los Angeles  United States   CS-121304      Chad Sievert   \n",
       "4  Office Supplies  Los Angeles  United States   AP-109154    Arthur Prichep   \n",
       "\n",
       "   discount market  unknown          order_date        order_id  ... sales  \\\n",
       "0       0.0     US        1  2011-01-07 0:00:00  CA-2011-130813  ...    19   \n",
       "1       0.0     US        1  2011-01-21 0:00:00  CA-2011-148614  ...    19   \n",
       "2       0.0     US        1  2011-08-05 0:00:00  CA-2011-118962  ...    21   \n",
       "3       0.0     US        1  2011-08-05 0:00:00  CA-2011-118962  ...   111   \n",
       "4       0.0     US        1  2011-09-29 0:00:00  CA-2011-146969  ...     6   \n",
       "\n",
       "    segment           ship_date       ship_mode  shipping_cost       state  \\\n",
       "0  Consumer  2011-01-09 0:00:00    Second Class           4.37  California   \n",
       "1  Consumer  2011-01-26 0:00:00  Standard Class           0.94  California   \n",
       "2  Consumer  2011-08-09 0:00:00  Standard Class           1.81  California   \n",
       "3  Consumer  2011-08-09 0:00:00  Standard Class           4.59  California   \n",
       "4  Consumer  2011-10-03 0:00:00  Standard Class           1.32  California   \n",
       "\n",
       "   sub_category  year        market2 weeknum  \n",
       "0         Paper  2011  North America       2  \n",
       "1         Paper  2011  North America       4  \n",
       "2         Paper  2011  North America      32  \n",
       "3         Paper  2011  North America      32  \n",
       "4         Paper  2011  North America      40  \n",
       "\n",
       "[5 rows x 27 columns]"
      ]
     },
     "execution_count": 32,
     "metadata": {},
     "output_type": "execute_result"
    }
   ],
   "source": [
    "# Carregar o dataset\n",
    "df = pd.read_csv(\"../data/raw/superstore.csv\")  # AJUSTE O CAMINHO\n",
    "\n",
    "print(f\"\\n📊 Formato da base: {df.shape}\")\n",
    "print(f\"📊 Colunas: {df.columns.tolist()}\")\n",
    "\n",
    "df.head()"
   ]
  },
  {
   "cell_type": "code",
   "execution_count": 33,
   "id": "b9a37eac",
   "metadata": {},
   "outputs": [
    {
     "name": "stdout",
     "output_type": "stream",
     "text": [
      "<class 'pandas.core.frame.DataFrame'>\n",
      "RangeIndex: 51290 entries, 0 to 51289\n",
      "Data columns (total 27 columns):\n",
      " #   Column          Non-Null Count  Dtype  \n",
      "---  ------          --------------  -----  \n",
      " 0   category        51290 non-null  object \n",
      " 1   city            51290 non-null  object \n",
      " 2   country         51290 non-null  object \n",
      " 3   customer_ID     51290 non-null  object \n",
      " 4   customer_name   51290 non-null  object \n",
      " 5   discount        51290 non-null  float64\n",
      " 6   market          51290 non-null  object \n",
      " 7   unknown         51290 non-null  int64  \n",
      " 8   order_date      51290 non-null  object \n",
      " 9   order_id        51290 non-null  object \n",
      " 10  order_priority  51290 non-null  object \n",
      " 11  product_id      51290 non-null  object \n",
      " 12  product_name    51290 non-null  object \n",
      " 13  profit          51290 non-null  float64\n",
      " 14  quantity        51290 non-null  int64  \n",
      " 15  region          51290 non-null  object \n",
      " 16  row_id          51290 non-null  int64  \n",
      " 17  sales           51290 non-null  int64  \n",
      " 18  segment         51290 non-null  object \n",
      " 19  ship_date       51290 non-null  object \n",
      " 20  ship_mode       51290 non-null  object \n",
      " 21  shipping_cost   51290 non-null  float64\n",
      " 22  state           51290 non-null  object \n",
      " 23  sub_category    51290 non-null  object \n",
      " 24  year            51290 non-null  int64  \n",
      " 25  market2         51290 non-null  object \n",
      " 26  weeknum         51290 non-null  int64  \n",
      "dtypes: float64(3), int64(6), object(18)\n",
      "memory usage: 10.6+ MB\n"
     ]
    }
   ],
   "source": [
    "df.info()"
   ]
  },
  {
   "cell_type": "markdown",
   "id": "4cac5919",
   "metadata": {},
   "source": [
    "## 3. Tratamento de Valores Nulos"
   ]
  },
  {
   "cell_type": "code",
   "execution_count": 34,
   "id": "f77ea466",
   "metadata": {},
   "outputs": [
    {
     "name": "stdout",
     "output_type": "stream",
     "text": [
      "🔍 Valores nulos por coluna:\n",
      "\n",
      "category          0\n",
      "city              0\n",
      "country           0\n",
      "customer_ID       0\n",
      "customer_name     0\n",
      "discount          0\n",
      "market            0\n",
      "unknown           0\n",
      "order_date        0\n",
      "order_id          0\n",
      "order_priority    0\n",
      "product_id        0\n",
      "product_name      0\n",
      "profit            0\n",
      "quantity          0\n",
      "region            0\n",
      "row_id            0\n",
      "sales             0\n",
      "segment           0\n",
      "ship_date         0\n",
      "ship_mode         0\n",
      "shipping_cost     0\n",
      "state             0\n",
      "sub_category      0\n",
      "year              0\n",
      "market2           0\n",
      "weeknum           0\n",
      "dtype: int64\n"
     ]
    }
   ],
   "source": [
    "print(\"🔍 Valores nulos por coluna:\\n\")\n",
    "print(df.isnull().sum().sort_values(ascending=False))"
   ]
  },
  {
   "cell_type": "markdown",
   "id": "8b662702",
   "metadata": {},
   "source": [
    "## 4. Tratamento de Valores Duplicados"
   ]
  },
  {
   "cell_type": "code",
   "execution_count": 35,
   "id": "12dc4f6d",
   "metadata": {},
   "outputs": [
    {
     "name": "stdout",
     "output_type": "stream",
     "text": [
      "Valores duplicados: 0\n"
     ]
    }
   ],
   "source": [
    "duplicated_values = df[df.duplicated()]\n",
    "print(f\"Valores duplicados: {len(duplicated_values)}\")"
   ]
  },
  {
   "cell_type": "code",
   "execution_count": 36,
   "id": "4abb9809",
   "metadata": {},
   "outputs": [
    {
     "data": {
      "text/plain": [
       "np.int64(0)"
      ]
     },
     "execution_count": 36,
     "metadata": {},
     "output_type": "execute_result"
    }
   ],
   "source": [
    "df['row_id'].duplicated().sum()"
   ]
  },
  {
   "cell_type": "markdown",
   "id": "249c5013",
   "metadata": {},
   "source": [
    "## 5. Tratamento de Variáveis Categóricas"
   ]
  },
  {
   "cell_type": "markdown",
   "id": "9e9207b6",
   "metadata": {},
   "source": [
    "## 6. Tratamento de Variáveis Numéricas"
   ]
  }
 ],
 "metadata": {
  "kernelspec": {
   "display_name": "Python 3",
   "language": "python",
   "name": "python3"
  },
  "language_info": {
   "codemirror_mode": {
    "name": "ipython",
    "version": 3
   },
   "file_extension": ".py",
   "mimetype": "text/x-python",
   "name": "python",
   "nbconvert_exporter": "python",
   "pygments_lexer": "ipython3",
   "version": "3.13.7"
  }
 },
 "nbformat": 4,
 "nbformat_minor": 5
}
